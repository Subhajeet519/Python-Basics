{
  "nbformat": 4,
  "nbformat_minor": 0,
  "metadata": {
    "colab": {
      "provenance": []
    },
    "kernelspec": {
      "name": "python3",
      "display_name": "Python 3"
    },
    "language_info": {
      "name": "python"
    }
  },
  "cells": [
    {
      "cell_type": "markdown",
      "source": [
        "Q1. What is Python, and why is it popular\n",
        "->  Python is a versatile, high level programming language known for it readability and simplicity.\n",
        "   - Python's popularity stems from its simplicity, versatility, and a robust ecosystem that supports a wide range of applications. Its ease of learning, coupled with a strong community, makes it accessible to both beginners and experienced developers."
      ],
      "metadata": {
        "id": "PYyQp5MWI9MP"
      }
    },
    {
      "cell_type": "markdown",
      "source": [
        "Q2. What is an interpreter in Python\n",
        "  -> In Python, an interpreter is a program that reads and executes Python code line by line. Unlike compilers, which translate the entire code before execution, the interpreter processes and runs each line as it's encountered, allowing immediate testing."
      ],
      "metadata": {
        "id": "1TJQQhBnKp_8"
      }
    },
    {
      "cell_type": "markdown",
      "source": [
        "Q3. What are pre-defined keywords in Python\n",
        "  -> Keywords are predefined, We cannot use a keyword as a variable name, function name, or any other identifier. They are used to define the syntax and structure of the Python language.\n"
      ],
      "metadata": {
        "id": "JJdRjnmyLC5-"
      }
    },
    {
      "cell_type": "markdown",
      "source": [
        "Q4.Can keywords be used as variable names ?\n",
        "  -> No, keywords cannot be used as variable names. Because the compiler or interpreter uses keywords to understand the logic of your code, using them as variable names would cause errors."
      ],
      "metadata": {
        "id": "HwcslgkzLb0r"
      }
    },
    {
      "cell_type": "markdown",
      "source": [
        "Q5. What is mutability in Python?\n",
        " -> An object is considered mutable if its state or value can be modified/edited after it is created."
      ],
      "metadata": {
        "id": "puQf5qJwNc3b"
      }
    },
    {
      "cell_type": "markdown",
      "source": [
        "Q6. Why are lists mutable, but tuples are immutable?\n",
        " -> Lists are mutable because they can be changed, but tuples are immutable because they cannot be changed."
      ],
      "metadata": {
        "id": "wkCinAUYPGZh"
      }
    },
    {
      "cell_type": "markdown",
      "source": [
        "Q7.  What is the difference between “==” and “is” operators in Python?\n",
        " -> The \"==\" and \"is\" operators in Python serve different purposes.\n",
        "    \"==\" is a Equality Operator where \"is\" is a identity operator."
      ],
      "metadata": {
        "id": "fLW8-v9yQFIz"
      }
    },
    {
      "cell_type": "markdown",
      "source": [
        "Q8. What are logical operators in Python?\n",
        " -> There are 3 logical operators in Python --\n",
        "    1. and\n",
        "    2. or\n",
        "    3. not"
      ],
      "metadata": {
        "id": "tVFBe_ZIRfh9"
      }
    },
    {
      "cell_type": "markdown",
      "source": [
        "Q9. What is type casting in Python?\n",
        " -> Type casting, also known as type conversion, is the process of changing a variable's data type to another. This is useful when you need to perform operations that require specific data types"
      ],
      "metadata": {
        "id": "mHQdAnyCTKHw"
      }
    },
    {
      "cell_type": "markdown",
      "source": [
        "Q10. What is the difference between implicit and explicit type casting?\n",
        " -> Implicit Type Casting Done automatically by the interpreter/compiler and explicit Type Casting Manually done by the programmer using casting functions."
      ],
      "metadata": {
        "id": "sufntSPPUECd"
      }
    },
    {
      "cell_type": "markdown",
      "source": [
        "Q11. What is the purpose of conditional statements in Python?\n",
        " -> Conditional statements in Python are used to control the flow of a program. They allow the program to make decisions based on whether certain conditions are true or false."
      ],
      "metadata": {
        "id": "9vrdt7E1hlvD"
      }
    },
    {
      "cell_type": "markdown",
      "source": [
        "Q12.  How does the elif statement work?\n",
        " -> The “elif” keyword in Python, stands for “else if”. It can be used in conditional statements to check for multiple conditions."
      ],
      "metadata": {
        "id": "PMTXRca7h4_D"
      }
    },
    {
      "cell_type": "markdown",
      "source": [
        "Q13. What is the difference between for and while loops?\n",
        " -> Both for and while loops are used for iteration.\n",
        "   For Loop: Used when the number of iterations is known.\n",
        "    -Automatically stops after finishing the sequence.\n",
        "   While Loop is used when the condition is based on logic.\n",
        "     -Runs as long as the condition is true.\n"
      ],
      "metadata": {
        "id": "qCiXEI9EiMgF"
      }
    },
    {
      "cell_type": "markdown",
      "source": [
        " Q14. Describe a scenario where a while loop is more suitable than a for loop.\n",
        "  ->Let's say you are writing a program that asks a user to enter the correct password. The user should be allowed to try until they get it right, regardless of how many attempts it takes.\n",
        "\n",
        "A while loop is the best choice since the number of attempts is not fixed."
      ],
      "metadata": {
        "id": "VY6ii1gtjqAg"
      }
    },
    {
      "cell_type": "code",
      "source": [
        "#1 Write a Python program to print \"Hello, World!\"\n",
        "\n",
        "print(\"Hello, World!\")"
      ],
      "metadata": {
        "colab": {
          "base_uri": "https://localhost:8080/"
        },
        "id": "ycpqYK40kOAL",
        "outputId": "04b72f53-0db5-4023-d42a-090f6db3f94d"
      },
      "execution_count": null,
      "outputs": [
        {
          "output_type": "stream",
          "name": "stdout",
          "text": [
            "Hello, World!\n"
          ]
        }
      ]
    },
    {
      "cell_type": "code",
      "source": [
        "#2 Write a Python program that displays your name and age.\n",
        "\n",
        "name =\"Subhajeet\"\n",
        "age = 25\n",
        "\n",
        "print(name,age)"
      ],
      "metadata": {
        "colab": {
          "base_uri": "https://localhost:8080/"
        },
        "id": "g0My1X6ulWmz",
        "outputId": "b4cc0d1f-2372-47d7-e782-1feec506683e"
      },
      "execution_count": null,
      "outputs": [
        {
          "output_type": "stream",
          "name": "stdout",
          "text": [
            "Subhajeet 25\n"
          ]
        }
      ]
    },
    {
      "cell_type": "code",
      "source": [
        "#3 Write code to print all the pre-defined keywords in Python using the keyword library.\n",
        "\n",
        "import keyword\n",
        "print(keyword.kwlist)"
      ],
      "metadata": {
        "colab": {
          "base_uri": "https://localhost:8080/"
        },
        "id": "_YKRAoCRpnmh",
        "outputId": "6fe753fa-bdf9-462d-989e-22817daecf47"
      },
      "execution_count": null,
      "outputs": [
        {
          "output_type": "stream",
          "name": "stdout",
          "text": [
            "['False', 'None', 'True', 'and', 'as', 'assert', 'async', 'await', 'break', 'class', 'continue', 'def', 'del', 'elif', 'else', 'except', 'finally', 'for', 'from', 'global', 'if', 'import', 'in', 'is', 'lambda', 'nonlocal', 'not', 'or', 'pass', 'raise', 'return', 'try', 'while', 'with', 'yield']\n"
          ]
        }
      ]
    },
    {
      "cell_type": "code",
      "source": [
        "#4 Write a program that checks if a given word is a Python keyword.\n",
        "\n",
        "\n",
        "import keyword\n",
        "s = 'for'\n",
        "if keyword.iskeyword(s):\n",
        "    print(f\"'{s}' is a Python keyword.\")\n",
        "else:\n",
        "    print(f\"'{s}' is not a Python keyword.\")\n"
      ],
      "metadata": {
        "colab": {
          "base_uri": "https://localhost:8080/"
        },
        "id": "WE8Y6lDvp5WE",
        "outputId": "a1e54213-34a4-4288-b6a2-281a7df4ba7f"
      },
      "execution_count": null,
      "outputs": [
        {
          "output_type": "stream",
          "name": "stdout",
          "text": [
            "'for' is a Python keyword.\n"
          ]
        }
      ]
    },
    {
      "cell_type": "code",
      "source": [
        "#5 Create a list and tuple in Python, and demonstrate how attempting to change an element works differently for each.\n",
        "\n",
        "## Creating a List\n",
        "my_list = [1, 2, 3, 4]\n",
        "print(my_list)\n",
        "# changing the element at index 2 (which is 3) to 10\n",
        "my_list[2] = 10\n",
        "print(my_list)\n",
        "\n",
        " ## Creating a Tuple\n",
        "my_tuple = (\"Mango\", \"Banana\", \"Apple\", \"Orange\")\n",
        "print(my_tuple)\n",
        "#changing the element at index 2 (which is \"Apple\") to \"Watermalon\"\n",
        "my_tuple[2] = \"Watermalon\"\n",
        "print(my_tuple)\n",
        "\"\"\"Tuples are immutable. Attempting to change an element like my_tuple[2] = 'Watermalon' will cause a TypeError.\"\"\""
      ],
      "metadata": {
        "colab": {
          "base_uri": "https://localhost:8080/",
          "height": 245
        },
        "id": "CwytzDlKrEAa",
        "outputId": "f606eb0a-bd26-4a88-8029-e466fb8f665a"
      },
      "execution_count": null,
      "outputs": [
        {
          "output_type": "stream",
          "name": "stdout",
          "text": [
            "[1, 2, 3, 4]\n",
            "[1, 2, 10, 4]\n",
            "('Mango', 'Banana', 'Apple', 'Orange')\n"
          ]
        },
        {
          "output_type": "error",
          "ename": "TypeError",
          "evalue": "'tuple' object does not support item assignment",
          "traceback": [
            "\u001b[0;31m---------------------------------------------------------------------------\u001b[0m",
            "\u001b[0;31mTypeError\u001b[0m                                 Traceback (most recent call last)",
            "\u001b[0;32m<ipython-input-5-303816e819fa>\u001b[0m in \u001b[0;36m<cell line: 0>\u001b[0;34m()\u001b[0m\n\u001b[1;32m     12\u001b[0m \u001b[0mprint\u001b[0m\u001b[0;34m(\u001b[0m\u001b[0mmy_tuple\u001b[0m\u001b[0;34m)\u001b[0m\u001b[0;34m\u001b[0m\u001b[0;34m\u001b[0m\u001b[0m\n\u001b[1;32m     13\u001b[0m \u001b[0;31m#changing the element at index 2 (which is \"Apple\") to \"Watermalon\"\u001b[0m\u001b[0;34m\u001b[0m\u001b[0;34m\u001b[0m\u001b[0m\n\u001b[0;32m---> 14\u001b[0;31m \u001b[0mmy_tuple\u001b[0m\u001b[0;34m[\u001b[0m\u001b[0;36m2\u001b[0m\u001b[0;34m]\u001b[0m \u001b[0;34m=\u001b[0m \u001b[0;34m\"Watermalon\"\u001b[0m\u001b[0;34m\u001b[0m\u001b[0;34m\u001b[0m\u001b[0m\n\u001b[0m\u001b[1;32m     15\u001b[0m \u001b[0mprint\u001b[0m\u001b[0;34m(\u001b[0m\u001b[0mmy_tuple\u001b[0m\u001b[0;34m)\u001b[0m\u001b[0;34m\u001b[0m\u001b[0;34m\u001b[0m\u001b[0m\n",
            "\u001b[0;31mTypeError\u001b[0m: 'tuple' object does not support item assignment"
          ]
        }
      ]
    },
    {
      "cell_type": "code",
      "source": [
        "#6 Write a function to demonstrate the behavior of mutable and immutable arguments.\n",
        "\n",
        "# Function to modify an integer (immutable)\n",
        "def modify_integer(x):\n",
        "    x = x + 10\n",
        "    print(\"Inside function (int):\", x)\n",
        "\n",
        "# Function to modify a list (mutable)\n",
        "def modify_list(lst):\n",
        "    lst.append(100)\n",
        "    print(\"Inside function (list):\", lst)\n",
        "\n",
        "# Main Program\n",
        "a = 5\n",
        "b = [1, 2, 3]\n",
        "\n",
        "# Call functions\n",
        "modify_integer(a)\n",
        "print(\"Outside function (int):\", a)\n",
        "\n",
        "modify_list(b)\n",
        "print(\"Outside function (list):\", b)\n"
      ],
      "metadata": {
        "colab": {
          "base_uri": "https://localhost:8080/"
        },
        "id": "79TnKuRs5IvZ",
        "outputId": "d23782bd-3463-46d6-fae4-2cac7ca06162"
      },
      "execution_count": 1,
      "outputs": [
        {
          "output_type": "stream",
          "name": "stdout",
          "text": [
            "Inside function (int): 15\n",
            "Outside function (int): 5\n",
            "Inside function (list): [1, 2, 3, 100]\n",
            "Outside function (list): [1, 2, 3, 100]\n"
          ]
        }
      ]
    },
    {
      "cell_type": "code",
      "source": [
        "#7 Write a program that performs basic arithmetic operations on two user-input numbers\n",
        "\n",
        "num1 = float(input(\"Enter the first number: \"))\n",
        "num2 = float(input(\"Enter the second number: \"))\n",
        "addition = num1 + num2\n",
        "subtraction = num1 - num2\n",
        "multiplication = num1 * num2\n",
        "division = num1 / num2\n",
        "print(f\"Addition: {addition}\")\n",
        "print(f\"Subtraction: {subtraction}\")\n",
        "print(f\"Multiplication: {multiplication}\")\n",
        "print(f\"Division: {division}\")"
      ],
      "metadata": {
        "colab": {
          "base_uri": "https://localhost:8080/"
        },
        "id": "-BqwZ4nuuJXu",
        "outputId": "99784997-3380-4d28-de1a-2c1100fcb56b"
      },
      "execution_count": null,
      "outputs": [
        {
          "output_type": "stream",
          "name": "stdout",
          "text": [
            "Enter the first number: 25\n",
            "Enter the second number: 5\n",
            "Addition: 30.0\n",
            "Subtraction: 20.0\n",
            "Multiplication: 125.0\n",
            "Division: 5.0\n"
          ]
        }
      ]
    },
    {
      "cell_type": "code",
      "source": [
        "#8 Write a program to demonstrate the use of logical operators.\n",
        "\n",
        "age = int(input(\"Enter your age: \"))\n",
        "if age >= 18:\n",
        "    print(\"You are eligible to vote.\")\n",
        "else:\n",
        "    print(\"You are not eligible to vote.\")\n"
      ],
      "metadata": {
        "colab": {
          "base_uri": "https://localhost:8080/"
        },
        "id": "YpcldLhcwD95",
        "outputId": "4622f0cd-d4b2-4b49-fc15-655c29599b46"
      },
      "execution_count": null,
      "outputs": [
        {
          "output_type": "stream",
          "name": "stdout",
          "text": [
            "Enter your age: 17\n",
            "You are not eligible to vote.\n"
          ]
        }
      ]
    },
    {
      "cell_type": "code",
      "source": [
        "#9 Write a Python program to convert user input from string to integer, float, and boolean types.\n",
        "\n",
        "# Take user input as a string\n",
        "user_input = input(\"Enter a value: \")\n",
        "\n",
        "# Try to convert to integer\n",
        "try:\n",
        "    int_value = int(user_input)\n",
        "    print(\"Integer:\", int_value)\n",
        "except ValueError:\n",
        "    print(\"Cannot convert to integer.\")\n",
        "\n",
        "# Try to convert to float\n",
        "try:\n",
        "    float_value = float(user_input)\n",
        "    print(\"Float:\", float_value)\n",
        "except ValueError:\n",
        "    print(\"Cannot convert to float.\")\n",
        "\n",
        "# Convert to boolean\n",
        "# In Python, an empty string is False, any non-empty string is True\n",
        "bool_value = bool(user_input)\n",
        "print(\"Boolean:\", bool_value)\n"
      ],
      "metadata": {
        "colab": {
          "base_uri": "https://localhost:8080/"
        },
        "id": "StVx9oxk4vRq",
        "outputId": "38b86fbf-3bf1-4a63-a439-59d51c1cf610"
      },
      "execution_count": null,
      "outputs": [
        {
          "output_type": "stream",
          "name": "stdout",
          "text": [
            "Enter a value: 123\n",
            "Integer: 123\n",
            "Float: 123.0\n",
            "Boolean: True\n"
          ]
        }
      ]
    },
    {
      "cell_type": "code",
      "source": [
        "#10 Write code to demonstrate type casting with list elements.\n",
        "\n",
        "my_list = [1, \"2\", 3]\n",
        "\n",
        "# Type casting to integers\n",
        "int_list = [int(x) for x in my_list]\n",
        "print(\"Integer list:\", int_list)"
      ],
      "metadata": {
        "colab": {
          "base_uri": "https://localhost:8080/"
        },
        "id": "3shIWlA_6lLD",
        "outputId": "03e7c3cb-0c97-4d3c-c1ff-fa962e3b8c46"
      },
      "execution_count": null,
      "outputs": [
        {
          "output_type": "stream",
          "name": "stdout",
          "text": [
            "Integer list: [1, 2, 3]\n"
          ]
        }
      ]
    },
    {
      "cell_type": "code",
      "source": [
        "#11. Write a program that checks if a number is positive, negative, or zero.\n",
        "\n",
        "\n",
        "num = float(input(\"Enter a number: \"))\n",
        "\n",
        "if num > 0:\n",
        "    print(\"The number is positive.\")\n",
        "elif num < 0:\n",
        "    print(\"The number is negative.\")\n",
        "else:\n",
        "    print(\"The number is zero.\")\n"
      ],
      "metadata": {
        "colab": {
          "base_uri": "https://localhost:8080/"
        },
        "id": "yXv6k3XG7Omn",
        "outputId": "7e700171-2d50-40c8-e869-e299d4e3aa47"
      },
      "execution_count": null,
      "outputs": [
        {
          "output_type": "stream",
          "name": "stdout",
          "text": [
            "Enter a number: 10\n",
            "The number is positive.\n"
          ]
        }
      ]
    },
    {
      "cell_type": "code",
      "source": [
        "# 12. Write a for loop to print numbers from 1 to 10.\n",
        "\n",
        "for i in range(1, 11):\n",
        "    print(i)"
      ],
      "metadata": {
        "colab": {
          "base_uri": "https://localhost:8080/"
        },
        "id": "h2ssot7m7hUG",
        "outputId": "8617fedf-ee0a-4c7f-ba57-ac2e1b561115"
      },
      "execution_count": null,
      "outputs": [
        {
          "output_type": "stream",
          "name": "stdout",
          "text": [
            "1\n",
            "2\n",
            "3\n",
            "4\n",
            "5\n",
            "6\n",
            "7\n",
            "8\n",
            "9\n",
            "10\n"
          ]
        }
      ]
    },
    {
      "cell_type": "code",
      "source": [
        "#13. Write a Python program to find the sum of all even numbers between 1 and 50.\n",
        "\n",
        "# Initialize sum\n",
        "total = 0\n",
        "\n",
        "for num in range(1, 51):\n",
        "    if num % 2 == 0:\n",
        "        total += num\n",
        "print(\"The sum of even numbers from 1 to 50 is:\", total)\n"
      ],
      "metadata": {
        "colab": {
          "base_uri": "https://localhost:8080/"
        },
        "id": "3YaKggY97_dx",
        "outputId": "23ac05b4-4f3a-4022-bf98-f6292e88b120"
      },
      "execution_count": null,
      "outputs": [
        {
          "output_type": "stream",
          "name": "stdout",
          "text": [
            "The sum of even numbers from 1 to 50 is: 650\n"
          ]
        }
      ]
    },
    {
      "cell_type": "code",
      "source": [
        "#14. Write a program to reverse a string using a while loop.\n",
        "\n",
        "def reverse_string(s):\n",
        "    reversed_s = \"\"\n",
        "    length = len(s) - 1\n",
        "    while length >= 0:\n",
        "        reversed_s += s[length]\n",
        "        length -= 1\n",
        "    return reversed_s\n",
        "\n",
        "input_string = \"hello\"\n",
        "reversed_string = reverse_string(input_string)\n",
        "print(\"Reversed string:\", reversed_string)"
      ],
      "metadata": {
        "colab": {
          "base_uri": "https://localhost:8080/"
        },
        "id": "aH0srge08WhE",
        "outputId": "aac31f59-ba85-4620-dea1-8ccbcdb0b8d1"
      },
      "execution_count": null,
      "outputs": [
        {
          "output_type": "stream",
          "name": "stdout",
          "text": [
            "Reversed string: olleh\n"
          ]
        }
      ]
    },
    {
      "cell_type": "code",
      "source": [
        "#15. Write a Python program to calculate the factorial of a number provided by the user using a while loop.\n",
        "\n",
        "\n",
        "num = int(input(\"Enter a integer: \"))\n",
        "\n",
        "factorial = 1\n",
        "i = 1\n",
        "if num < 0:\n",
        "    print(\"Factorial is not defined for negative numbers.\")\n",
        "else:\n",
        "    while i <= num:\n",
        "        factorial *= i\n",
        "        i += 1\n",
        "    print(f\"The factorial of {num} is: {factorial}\")\n"
      ],
      "metadata": {
        "colab": {
          "base_uri": "https://localhost:8080/"
        },
        "id": "iYtqRZex9GR7",
        "outputId": "fdcd25f1-ad82-4cac-831a-97d733073547"
      },
      "execution_count": null,
      "outputs": [
        {
          "output_type": "stream",
          "name": "stdout",
          "text": [
            "Enter a integer: 5\n",
            "The factorial of 5 is: 120\n"
          ]
        }
      ]
    }
  ]
}